{
 "cells": [
  {
   "cell_type": "markdown",
   "metadata": {},
   "source": [
    "__Question 1:\n",
    "Assuming that we have some email addresses in the \"username@companyname.com\" format, please write program\n",
    "to print the company name of a given email address. Both user names and company names are composed of letters\n",
    "only.__"
   ]
  },
  {
   "cell_type": "code",
   "execution_count": 1,
   "metadata": {},
   "outputs": [
    {
     "name": "stdout",
     "output_type": "stream",
     "text": [
      "Enter the email adressvaishnavi@gmail.com\n",
      "Valid User name and Company name\n",
      "User name is  :  vaishnavi\n",
      "Company name is : gmail\n"
     ]
    }
   ],
   "source": [
    "\n",
    "email_adress=input(\"Enter the email adress\")\n",
    "user_company_name=email_adress.split('.')\n",
    "user_name=user_company_name[0].split('@')[0]\n",
    "company_name=user_company_name[0].split('@')[1]\n",
    "number=0\n",
    "number_1=0\n",
    "for i in user_name :\n",
    "    if i.isdigit():\n",
    "        number=number+1\n",
    "for i in company_name:\n",
    "    if i .isdigit():\n",
    "        number_1=number_1+1\n",
    "\n",
    "\n",
    "if number == 0 and number_1==0:\n",
    "    print(\"Valid User name and Company name\")\n",
    "    print(\"User name is  : \",user_name)\n",
    "    print(\"Company name is :\",company_name)\n",
    "else:\n",
    "    \n",
    "    if number_1 != 0:\n",
    "        print(\" Please Enter Valid Company name\")\n",
    "\n",
    "    if number!=0:\n",
    "        print( \"Please Enter the valid User name\")\n"
   ]
  },
  {
   "cell_type": "markdown",
   "metadata": {},
   "source": [
    "__Question 2:\n",
    "Write a program that accepts a comma-separated sequence of words as input and prints the words in a comma\n",
    "separated sequence after sorting them alphabetically.__\n",
    "\n"
   ]
  },
  {
   "cell_type": "code",
   "execution_count": 8,
   "metadata": {},
   "outputs": [
    {
     "name": "stdout",
     "output_type": "stream",
     "text": [
      "Enter the words: \n",
      "vakk,vij,kin\n",
      "['kin', 'vakk', 'vij']\n",
      "kin,vakk,vij,"
     ]
    }
   ],
   "source": [
    "l=input (\"Enter the words: \\n\")\n",
    "l=l.split(',')\n",
    "l.sort()\n",
    "print(l)\n",
    "for i in l:\n",
    "    print(i,end=\",\")"
   ]
  },
  {
   "cell_type": "markdown",
   "metadata": {},
   "source": [
    "__Question 3:\n",
    "Create your own Jupyter Notebook for Sets__"
   ]
  },
  {
   "cell_type": "code",
   "execution_count": 24,
   "metadata": {},
   "outputs": [
    {
     "name": "stdout",
     "output_type": "stream",
     "text": [
      "{'hi', 'Namaste', 'shubhodaya', 'hello'}\n",
      "length of set: 4\n",
      "The new set is : {'Namaste', 'shubhodaya', 'hello'}\n",
      "The new set is: {'shubhodaya', 'hello'}\n",
      "The new set is : set()\n",
      "{1, 2, 3, 4, 5, 8}\n",
      "{1, 3, 4, 5, 8}\n",
      "{2}\n",
      "{1, 3, 4}\n"
     ]
    }
   ],
   "source": [
    "list_1={\"hi\",\"hello\",\"hello\",\"Namaste\",\"shubhodaya\"}\n",
    "set_1= set(list_1)\n",
    "print(set_1)\n",
    "print(\"length of set:\",len(set_1))\n",
    "set_1.remove(\"hi\")\n",
    "print(\"The new set is :\",set_1)\n",
    "set_1.pop()\n",
    "print(\"The new set is:\",set_1)\n",
    "set_1.clear()\n",
    "print(\"The new set is :\",set_1)\n",
    "set_2={1,2,3,4}\n",
    "set_3={2,5,8}\n",
    "print(set_2.union(set_3))\n",
    "print(set_2.symmetric_difference(set_3))\n",
    "print(set_2.intersection(set_3))\n",
    "print(set_2.difference(set_3))"
   ]
  },
  {
   "cell_type": "markdown",
   "metadata": {},
   "source": [
    "\n",
    "__Question 4:\n",
    "Given a list of n-1 numbers ranging from 1 to n, your task is to find the missing number. There are no duplicates.\n",
    "Input Format:\n",
    "The first line contains n-1 numbers with each number separated by a space.\n",
    "Output Format:\n",
    "Print the missing number\n",
    "Example:\n",
    "Input:1 2 4 6 3 7 8\n",
    "Output:5__"
   ]
  },
  {
   "cell_type": "code",
   "execution_count": 109,
   "metadata": {},
   "outputs": [
    {
     "name": "stdout",
     "output_type": "stream",
     "text": [
      "Enter the number with space1 2 3 4 5 7 8 9 10\n",
      "[1, 2, 3, 4, 5, 7, 8, 9, 10]\n",
      "[1, 2, 3, 4, 5, 6, 7, 8, 9, 10]\n",
      "The missing number is : 6\n"
     ]
    }
   ],
   "source": [
    "input_1=input(\"Enter the number with space\")\n",
    "\n",
    "input_1=input_1.split(\" \")\n",
    "test_list = [int(i) for i in input_1]\n",
    "test_list.sort()\n",
    " \n",
    "print(test_list)\n",
    "a=[]\n",
    "missing=[]\n",
    "for i in range(int(input_1[0]),int(input_1[-1])+1,1):\n",
    "    a.append(i)\n",
    "print(a)\n",
    "for i in a:\n",
    "    if i   not in test_list:\n",
    "        print(\"The missing number is :\" ,i)\n",
    "    \n"
   ]
  },
  {
   "cell_type": "markdown",
   "metadata": {},
   "source": [
    " __Question 5. With a given list L, write a program to print this list L after removing all duplicate values with original order reserved.\n",
    "Example:\n",
    "If the input list is\n",
    "12 24 35 24 88 120 155 88 120 155\n",
    "Then the output should be\n",
    "12 24 35 88 120 155__"
   ]
  },
  {
   "cell_type": "code",
   "execution_count": 119,
   "metadata": {},
   "outputs": [
    {
     "name": "stdout",
     "output_type": "stream",
     "text": [
      "35 12 155 24 88 120 "
     ]
    }
   ],
   "source": [
    "input_1=\"12 24 35 24 88 120 155 88 120 155\"\n",
    "input_1=input_1.split(\" \")\n",
    "test_list = [int(i) for i in input_1]\n",
    "set_1=set(test_list)\n",
    "set_1\n",
    "for i in set_1:\n",
    "    print(i,end=\" \")"
   ]
  },
  {
   "cell_type": "code",
   "execution_count": null,
   "metadata": {},
   "outputs": [],
   "source": []
  }
 ],
 "metadata": {
  "kernelspec": {
   "display_name": "Python 3",
   "language": "python",
   "name": "python3"
  },
  "language_info": {
   "codemirror_mode": {
    "name": "ipython",
    "version": 3
   },
   "file_extension": ".py",
   "mimetype": "text/x-python",
   "name": "python",
   "nbconvert_exporter": "python",
   "pygments_lexer": "ipython3",
   "version": "3.7.6"
  }
 },
 "nbformat": 4,
 "nbformat_minor": 4
}
