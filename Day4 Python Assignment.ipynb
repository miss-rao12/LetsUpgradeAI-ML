{
 "cells": [
  {
   "cell_type": "markdown",
   "metadata": {},
   "source": [
    "## Question 1 :\n",
    "__Research on whether addition, subtraction, multiplication, division, floor division and modulo\n",
    "operations be performed on complex numbers. Based on your study, implement a Python\n",
    "program to demonstrate these operations.__\n"
   ]
  },
  {
   "cell_type": "code",
   "execution_count": 21,
   "metadata": {},
   "outputs": [
    {
     "name": "stdout",
     "output_type": "stream",
     "text": [
      "Addition of complex number  (10+4j) and  (5-2j) is (15+2j)\n",
      "Subtraction of complex number  (10+4j) and  (5-2j) is (5+6j)\n",
      "Multiplication of complex number  (2+3j) and  (4+5j) is (-7+22j)\n",
      "Division of complex number  (2+3j) and  (4+5j) is (0.5609756097560976+0.0487804878048781j)\n"
     ]
    }
   ],
   "source": [
    "number_1=10+4j\n",
    "number_2=5-2j\n",
    "number_3=2+3j\n",
    "number_4=4+5j\n",
    "addition=number_1+number_2\n",
    "print(\"Addition of complex number \",number_1,\"and \", number_2,\"is\", addition )\n",
    "subtraction=number_1-number_2\n",
    "print(\"Subtraction of complex number \",number_1,\"and \", number_2,\"is\", subtraction )\n",
    "multiplication=number_3*number_4\n",
    "print(\"Multiplication of complex number \",number_3,\"and \", number_4,\"is\", multiplication )\n",
    "division=number_3/number_4\n",
    "print(\"Division of complex number \",number_3,\"and \", number_4,\"is\", division )\n"
   ]
  },
  {
   "cell_type": "markdown",
   "metadata": {},
   "source": [
    "__modulo_operation=number_3%number_4\n",
    " We get type error:can't mod complex numbers in python 3.7x.\n",
    " Python 3.7x doesnot support modulo operation__"
   ]
  },
  {
   "cell_type": "markdown",
   "metadata": {},
   "source": [
    "__floor_division=number_3//number_4\n",
    "We get type error: can't take floor of complex number.\n",
    "Python 3.7x doesnot support floor division of complex numbers__\n"
   ]
  },
  {
   "cell_type": "markdown",
   "metadata": {},
   "source": [
    "## Question 3:\n",
    "__Consider two numbers. Perform their subtraction and if the result of subtraction is greater than\n",
    "25, print their multiplication result else print their division result.__\n"
   ]
  },
  {
   "cell_type": "code",
   "execution_count": 29,
   "metadata": {},
   "outputs": [
    {
     "name": "stdout",
     "output_type": "stream",
     "text": [
      "enter the number :25\n",
      "enter the number :2\n",
      "Division result is : 12.5\n"
     ]
    }
   ],
   "source": [
    "number_1= int (input(\"enter the number :\")) \n",
    "number_2= int(input(\"enter the number :\"))\n",
    "subtraction_1= number_1-number_2\n",
    "subtraction_1\n",
    "if subtraction_1>25:\n",
    "    print(\"Multiplication result is :\",number_1*number_2)\n",
    "else:\n",
    "    print(\"Division result is :\",number_1/number_2)\n"
   ]
  },
  {
   "cell_type": "markdown",
   "metadata": {},
   "source": [
    "## Question 4:\n",
    "__Consider a list of 10 elements of integer values. If the number in the list is divisible by 2, print the\n",
    "result as \"square of that number minus 2\".__\n"
   ]
  },
  {
   "cell_type": "code",
   "execution_count": 35,
   "metadata": {},
   "outputs": [
    {
     "name": "stdout",
     "output_type": "stream",
     "text": [
      "20 Square of that number minus 2 \n",
      "2 Square of that number minus 2 \n",
      "-4 Square of that number minus 2 \n",
      "6 Square of that number minus 2 \n",
      "8 Square of that number minus 2 \n"
     ]
    }
   ],
   "source": [
    "list_1=[20,1,2,3,-4,5,6,-7,8,-9]\n",
    "for i in list_1:\n",
    "    if i%2==0:\n",
    "        print(i,\"Square of that number minus 2 \")"
   ]
  },
  {
   "cell_type": "markdown",
   "metadata": {},
   "source": [
    "## Question 5:\n",
    "__Consider a list of 10 elements. Print all the elements in the list which are greater than 7 when that\n",
    "number is divided 2.__"
   ]
  },
  {
   "cell_type": "code",
   "execution_count": 40,
   "metadata": {},
   "outputs": [
    {
     "name": "stdout",
     "output_type": "stream",
     "text": [
      "15\n",
      "16\n",
      "17\n",
      "18\n",
      "19\n"
     ]
    }
   ],
   "source": [
    "list_1=[]\n",
    "for i in range(10,20,1):\n",
    "    list_1.append(i)\n",
    "for i in list_1:\n",
    "    if i/2 >7:\n",
    "        print(i)\n",
    "    "
   ]
  },
  {
   "cell_type": "markdown",
   "metadata": {},
   "source": [
    "## Question 2 :\n",
    "__Research on range() functions and its parameters. Create a markdown cell and write in your own\n",
    "words (no copy-paste from google please) what you understand about it. Implement a small\n",
    "program of your choice on the same.__\n"
   ]
  },
  {
   "cell_type": "markdown",
   "metadata": {},
   "source": [
    "1.Range is a built in function that is used to generate a sequence of numbers with in the given range.\n",
    "\n",
    "2.syntax:range(start,stop,step)\n",
    "For Ex: range(1,10,2) gives 1,3,5,7,9 as the output value"
   ]
  },
  {
   "cell_type": "code",
   "execution_count": 41,
   "metadata": {},
   "outputs": [
    {
     "name": "stdout",
     "output_type": "stream",
     "text": [
      "0\n",
      "1\n",
      "2\n",
      "3\n",
      "4\n",
      "5\n",
      "6\n",
      "7\n",
      "8\n",
      "9\n"
     ]
    }
   ],
   "source": [
    "#Example no1\n",
    "for i in range(10):\n",
    "    print(i)"
   ]
  },
  {
   "cell_type": "code",
   "execution_count": 43,
   "metadata": {},
   "outputs": [
    {
     "name": "stdout",
     "output_type": "stream",
     "text": [
      "11\n",
      "12\n",
      "13\n",
      "14\n"
     ]
    }
   ],
   "source": [
    "#Example no2\n",
    "for i in range(11,15):\n",
    "    print(i)"
   ]
  },
  {
   "cell_type": "code",
   "execution_count": 44,
   "metadata": {},
   "outputs": [
    {
     "name": "stdout",
     "output_type": "stream",
     "text": [
      "10\n",
      "15\n",
      "20\n",
      "25\n"
     ]
    }
   ],
   "source": [
    "# Example no3\n",
    "for i in range(10,30,5):\n",
    "    print(i)"
   ]
  },
  {
   "cell_type": "code",
   "execution_count": null,
   "metadata": {},
   "outputs": [],
   "source": []
  }
 ],
 "metadata": {
  "kernelspec": {
   "display_name": "Python 3",
   "language": "python",
   "name": "python3"
  },
  "language_info": {
   "codemirror_mode": {
    "name": "ipython",
    "version": 3
   },
   "file_extension": ".py",
   "mimetype": "text/x-python",
   "name": "python",
   "nbconvert_exporter": "python",
   "pygments_lexer": "ipython3",
   "version": "3.7.6"
  }
 },
 "nbformat": 4,
 "nbformat_minor": 4
}
