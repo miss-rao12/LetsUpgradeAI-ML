{
 "cells": [
  {
   "cell_type": "markdown",
   "metadata": {},
   "source": [
    "# Python Assignment -1"
   ]
  },
  {
   "cell_type": "markdown",
   "metadata": {},
   "source": [
    "__1.Write a program to subtract two complex numbers in Python.__\n"
   ]
  },
  {
   "cell_type": "code",
   "execution_count": 7,
   "metadata": {},
   "outputs": [
    {
     "name": "stdout",
     "output_type": "stream",
     "text": [
      "Enter the complex number_1: 6+7j\n",
      "Enter the complex number_2: 9+9j\n",
      "result (-3-2j)\n"
     ]
    }
   ],
   "source": [
    "number_1=complex(input(\"Enter the complex number_1: \"))\n",
    "number_2=complex(input(\"Enter the complex number_2: \"))\n",
    "subtraction_result=number_1-number_2\n",
    "print(\"result\", subtraction_result)"
   ]
  },
  {
   "cell_type": "markdown",
   "metadata": {},
   "source": [
    "__2.Write a program to find the fourth root of a number.__\n"
   ]
  },
  {
   "cell_type": "code",
   "execution_count": 12,
   "metadata": {},
   "outputs": [
    {
     "name": "stdout",
     "output_type": "stream",
     "text": [
      "Enter the number: 16\n",
      "2.0\n"
     ]
    }
   ],
   "source": [
    "number_1=int(input(\"Enter the number: \"))\n",
    "root_number = 4\n",
    "Fourth_root = number_1**(1/root_number)\n",
    "print(Fourth_root)"
   ]
  },
  {
   "cell_type": "markdown",
   "metadata": {},
   "source": [
    "__3.Write a program to swap two numbers in Python with the help of a temporary variable.__\n"
   ]
  },
  {
   "cell_type": "code",
   "execution_count": 13,
   "metadata": {},
   "outputs": [
    {
     "name": "stdout",
     "output_type": "stream",
     "text": [
      "Enter the number_1: 10\n",
      "Enter the number_2: 15\n",
      "Before swapping  number_1:  10 number_2 : 15\n",
      "After swapping  number_1:  15 number_2 : 10\n"
     ]
    }
   ],
   "source": [
    "number_1=int(input(\"Enter the number_1: \"))\n",
    "number_2=int(input(\"Enter the number_2: \"))\n",
    "print(\"Before swapping \",\"number_1: \",number_1, \"number_2 :\",number_2)\n",
    "temp_value=number_1\n",
    "number_1=number_2\n",
    "number_2=temp_value\n",
    "print(\"After swapping \",\"number_1: \",number_1, \"number_2 :\",number_2)"
   ]
  },
  {
   "cell_type": "markdown",
   "metadata": {},
   "source": [
    "__4.Write a program to swap two numbers in Python without using a temporary variable.__\n"
   ]
  },
  {
   "cell_type": "code",
   "execution_count": 18,
   "metadata": {},
   "outputs": [
    {
     "name": "stdout",
     "output_type": "stream",
     "text": [
      "Enter the number_1: 10\n",
      "Enter the number_2: 15\n",
      "Before swapping  number_1:  10 number_2 : 15\n",
      "After swapping  number_1:  15 number_2 : 10\n"
     ]
    }
   ],
   "source": [
    "number_1=int(input(\"Enter the number_1: \"))\n",
    "number_2=int(input(\"Enter the number_2: \"))\n",
    "print(\"Before swapping \",\"number_1: \",number_1, \"number_2 :\",number_2)\n",
    "number_1=number_1+number_2\n",
    "number_2=number_1-number_2\n",
    "number_1=number_1-number_2\n",
    "print(\"After swapping \",\"number_1: \",number_1, \"number_2 :\",number_2)"
   ]
  },
  {
   "cell_type": "markdown",
   "metadata": {},
   "source": [
    "__5.Write a program to convert fahrenheit to kelvin and celsius both.__\n"
   ]
  },
  {
   "cell_type": "code",
   "execution_count": 26,
   "metadata": {},
   "outputs": [
    {
     "name": "stdout",
     "output_type": "stream",
     "text": [
      "Enter the temperature in Fahrenheit: 32\n",
      "The Temperature in fahrenheit is  32.0 F The temperature in degree celsius is  0.0 degree C\n",
      "The Temperature in fahrenheit is  32.0 F The temperature in kelvin is  273.15 K\n"
     ]
    }
   ],
   "source": [
    "#Fahrenheit to celcius: C=(F-32)*5/9\n",
    "temperature_fahrenheit=float(input(\"Enter the temperature in Fahrenheit: \"))\n",
    "conversion_celsius= (temperature_fahrenheit -32)*5/9\n",
    "print(\"The Temperature in fahrenheit is \",temperature_fahrenheit,\"F\",\"The temperature in degree celsius is \",conversion_celsius,'degree C')\n",
    "conversion_kelvin= 273.15+((temperature_fahrenheit-32)*5/9)\n",
    "print(\"The Temperature in fahrenheit is \",temperature_fahrenheit,\"F\",\"The temperature in kelvin is \",conversion_kelvin,'K')"
   ]
  },
  {
   "cell_type": "markdown",
   "metadata": {},
   "source": [
    "__6.Write a program to demonstrate all the available data types in Python__\n"
   ]
  },
  {
   "cell_type": "code",
   "execution_count": 37,
   "metadata": {},
   "outputs": [
    {
     "name": "stdout",
     "output_type": "stream",
     "text": [
      "<class 'int'>\n",
      "<class 'float'>\n",
      "<class 'str'>\n",
      "<class 'list'>\n",
      "<class 'tuple'>\n",
      "<class 'set'>\n",
      "<class 'dict'>\n",
      "<class 'complex'>\n"
     ]
    }
   ],
   "source": [
    "#int\n",
    "print(type(3))\n",
    "print(type(3.001))\n",
    "print(type(\"hi\"))\n",
    "print(type([1,2]))\n",
    "print(type((2,3)))\n",
    "print(type({1,3}))\n",
    "print(type({1:3}))\n",
    "print(type(1+3j))"
   ]
  },
  {
   "cell_type": "markdown",
   "metadata": {},
   "source": [
    "__7.Create a Markdown cell in jupyter and list the steps discussed in the session by Dr. Darshan\n",
    "Ingle sir to create Github profile and upload Githubs Assignment link.__"
   ]
  },
  {
   "cell_type": "markdown",
   "metadata": {},
   "source": [
    "## Steps to be followed to create git hub\n",
    "### 1. Find the url https://github.com/\n",
    "### 2. Signup if account doesnt exist else sign in\n",
    "### 3.Create a Repository with the name \"LetsUpgrade AI-ML\"\n",
    "### 4. Choose the option upload the existing file.Choose the file from the folder where assignments are placed.\n",
    "### 5.once uploading is done copy the  git hub link and paste it in the https://docs.google.com/forms/d/e/1FAIpQLSevTAqI8dJNbK9qDQA0POHMdKGaZqS9c7nO3W0ture1nNfqVg/viewform\n"
   ]
  },
  {
   "cell_type": "code",
   "execution_count": null,
   "metadata": {},
   "outputs": [],
   "source": []
  }
 ],
 "metadata": {
  "kernelspec": {
   "display_name": "Python 3",
   "language": "python",
   "name": "python3"
  },
  "language_info": {
   "codemirror_mode": {
    "name": "ipython",
    "version": 3
   },
   "file_extension": ".py",
   "mimetype": "text/x-python",
   "name": "python",
   "nbconvert_exporter": "python",
   "pygments_lexer": "ipython3",
   "version": "3.7.6"
  }
 },
 "nbformat": 4,
 "nbformat_minor": 4
}
